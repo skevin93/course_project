{
 "cells": [
  {
   "cell_type": "code",
   "execution_count": 20,
   "metadata": {
    "scrolled": true
   },
   "outputs": [
    {
     "name": "stdout",
     "output_type": "stream",
     "text": [
      "__main__\n"
     ]
    }
   ],
   "source": [
    "import matplotlib.pyplot as plt\n",
    "import numpy as np\n",
    "\n",
    "def read_file(file_name:str) -> dict:\n",
    "    f_obj = open(file_name,\"r\")\n",
    "\n",
    "    line = f_obj.readline()\n",
    "    tmp_dict = {}\n",
    "\n",
    "    while line:\n",
    "        line = line.rstrip()\n",
    "        line = line.split(\":\")\n",
    "        if len(line) == 2:\n",
    "            curr_key = line[0].strip()\n",
    "            tmp_dict[curr_key] = []\n",
    "            \n",
    "            line = line[1].split()\n",
    "            m = int(line[0])\n",
    "            if len(line) == 2:\n",
    "                m = int(line[1])\n",
    "\n",
    "            for _ in range(m):\n",
    "                line = f_obj.readline().split()\n",
    "                tmp_dict[curr_key].append(list(map(float, line)))\n",
    "\n",
    "        line = f_obj.readline()\n",
    "    \n",
    "    return tmp_dict\n",
    "\n",
    "def print_info(file_name):\n",
    "    output = read_file(file_name)\n",
    "\n",
    "    f, axs = plt.subplots(1,2,figsize=(10,10))\n",
    "\n",
    "    for i, key in enumerate(output.keys()):\n",
    "        array = output[key]\n",
    "\n",
    "        plt.subplot(1,2,i+1)\n",
    "        plt.title(key)\n",
    "        plt.matshow(array, fignum=False)#, cmap=\"Blues\")\n",
    "        plt.colorbar()\n",
    "\n",
    "\n",
    "    plt.show()\n",
    "print(__name__)\n",
    "\n",
    "if __name__ == \"__main__\":\n",
    "    print_info(\"output.out\")"
   ]
  },
  {
   "cell_type": "code",
   "execution_count": 3,
   "metadata": {},
   "outputs": [
    {
     "name": "stdout",
     "output_type": "stream",
     "text": [
      "True ['20.0 20.0']\n",
      "True ['matrix', ' 30']\n"
     ]
    }
   ],
   "source": []
  }
 ],
 "metadata": {
  "kernelspec": {
   "display_name": "Python 3",
   "language": "python",
   "name": "python3"
  },
  "language_info": {
   "codemirror_mode": {
    "name": "ipython",
    "version": 3
   },
   "file_extension": ".py",
   "mimetype": "text/x-python",
   "name": "python",
   "nbconvert_exporter": "python",
   "pygments_lexer": "ipython3",
   "version": "3.6.8"
  }
 },
 "nbformat": 4,
 "nbformat_minor": 2
}
